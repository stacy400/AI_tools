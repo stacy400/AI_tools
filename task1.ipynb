{
  "nbformat": 4,
  "nbformat_minor": 0,
  "metadata": {
    "colab": {
      "provenance": []
    },
    "kernelspec": {
      "name": "python3",
      "display_name": "Python 3"
    },
    "language_info": {
      "name": "python"
    }
  },
  "cells": [
    {
      "cell_type": "code",
      "execution_count": 1,
      "metadata": {
        "colab": {
          "base_uri": "https://localhost:8080/"
        },
        "id": "YdL173dy7yKT",
        "outputId": "7b0737c5-9113-47c7-d595-700266b76af4"
      },
      "outputs": [
        {
          "output_type": "stream",
          "name": "stdout",
          "text": [
            "Accuracy: 1.0\n"
          ]
        }
      ],
      "source": [
        "# Import necessary modules from Scikit-learn for loading data, splitting data,\n",
        "# scaling features, building a classifier, and evaluating performance.\n",
        "from sklearn import datasets                     # Provides access to several machine learning datasets including Iris.\n",
        "from sklearn.model_selection import train_test_split  # Splits the data into training and testing sets.\n",
        "from sklearn.preprocessing import StandardScaler   # Standardizes features by removing the mean and scaling to unit variance.\n",
        "from sklearn.linear_model import LogisticRegression  # Implements logistic regression for classification.\n",
        "from sklearn.metrics import accuracy_score         # Computes the accuracy of the classifier’s predictions.\n",
        "\n",
        "# Load the Iris dataset.\n",
        "# datasets.load_iris() returns a dictionary-like object with keys such as 'data' and 'target'.\n",
        "# - 'data' contains the feature measurements (sepal length, sepal width, petal length, petal width).\n",
        "# - 'target' contains the target class labels (0, 1, 2) corresponding to three types of iris flowers.\n",
        "iris = datasets.load_iris()\n",
        "\n",
        "# Separate the feature data (X) and the target labels (y).\n",
        "X = iris.data      # X is a 2D array of shape (150, 4) where each row represents an iris flower's measurements.\n",
        "y = iris.target    # y is an array of shape (150,) with values 0, 1, or 2.\n",
        "\n",
        "# Split the dataset into training and testing sets.\n",
        "# - test_size=0.3 indicates that 30% of the data will be used for testing, and 70% for training.\n",
        "# - random_state=42 ensures reproducibility of the split by fixing the random seed.\n",
        "X_train, X_test, y_train, y_test = train_test_split(X, y, test_size=0.3, random_state=42)\n",
        "\n",
        "# Standardize the features.\n",
        "# Standardizing is important because it puts all features on a common scale; this is especially beneficial for many machine learning algorithms.\n",
        "scaler = StandardScaler()         # Instantiate a StandardScaler object.\n",
        "X_train = scaler.fit_transform(X_train)  # Fit the scaler on the training data and transform it.\n",
        "X_test = scaler.transform(X_test)        # Transform the test data using the same parameters (mean and standard deviation) from the training data.\n",
        "\n",
        "# Instantiate the Classification Model.\n",
        "# Here we use Logistic Regression, a simple yet effective linear classifier.\n",
        "# - max_iter=200 ensures that the optimizer has enough iterations to converge.\n",
        "clf = LogisticRegression(max_iter=200)\n",
        "\n",
        "# Train the Model.\n",
        "# The fit() method adjusts the model parameters using the standardized training data and corresponding labels.\n",
        "clf.fit(X_train, y_train)\n",
        "\n",
        "# Use the trained model to make predictions on the test set.\n",
        "y_pred = clf.predict(X_test)\n",
        "\n",
        "# Evaluate the Model.\n",
        "# accuracy_score() compares the true labels (y_test) with the predicted labels (y_pred) to compute the fraction of correct predictions.\n",
        "accuracy = accuracy_score(y_test, y_pred)\n",
        "print(\"Accuracy:\", accuracy)"
      ]
    }
  ]
}