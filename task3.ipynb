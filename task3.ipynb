{
  "nbformat": 4,
  "nbformat_minor": 0,
  "metadata": {
    "colab": {
      "provenance": []
    },
    "kernelspec": {
      "name": "python3",
      "display_name": "Python 3"
    },
    "language_info": {
      "name": "python"
    }
  },
  "cells": [
    {
      "cell_type": "code",
      "execution_count": 2,
      "metadata": {
        "colab": {
          "base_uri": "https://localhost:8080/"
        },
        "id": "H1M2WDpAMR_g",
        "outputId": "2ab7bd71-5f48-485b-d2fd-6de2fb5a07f8"
      },
      "outputs": [
        {
          "output_type": "stream",
          "name": "stdout",
          "text": [
            "Review: I absolutely love the new Apple iPhone 17 the camera quality is amazing!\n",
            "Extracted Entities: [('Apple', 'ORG'), ('17', 'CARDINAL')]\n",
            "Sentiment: Positive\n",
            "--------------------------------------------------------------------------------\n",
            "Review: The Samsung Galaxy earbuds broke after a week. Very disappointed.\n",
            "Extracted Entities: [('Samsung Galaxy', 'ORG'), ('a week', 'DATE')]\n",
            "Sentiment: Negative\n",
            "--------------------------------------------------------------------------------\n",
            "Review: This Sony TV has excellent picture quality and clear sound.\n",
            "Extracted Entities: [('Sony', 'ORG')]\n",
            "Sentiment: Positive\n",
            "--------------------------------------------------------------------------------\n",
            "Review: I had issues with the Dell laptop battery, but customer service was helpful.\n",
            "Extracted Entities: [('Dell', 'ORG')]\n",
            "Sentiment: Neutral\n",
            "--------------------------------------------------------------------------------\n",
            "Review: The Nike shoes are so comfortable and stylish!\n",
            "Extracted Entities: [('Nike', 'ORG')]\n",
            "Sentiment: Positive\n",
            "--------------------------------------------------------------------------------\n"
          ]
        }
      ],
      "source": [
        "import spacy\n",
        "\n",
        "# Load English NLP model\n",
        "nlp = spacy.load(\"en_core_web_sm\")\n",
        "\n",
        "# Sample Amazon product reviews\n",
        "reviews = [\n",
        "    \"I absolutely love the new Apple iPhone 17 the camera quality is amazing!\",\n",
        "    \"The Samsung Galaxy earbuds broke after a week. Very disappointed.\",\n",
        "    \"This Sony TV has excellent picture quality and clear sound.\",\n",
        "    \"I had issues with the Dell laptop battery, but customer service was helpful.\",\n",
        "    \"The Nike shoes are so comfortable and stylish!\"\n",
        "]\n",
        "\n",
        "# Simple lists for rule-based sentiment analysis\n",
        "positive_words = [\"love\", \"amazing\", \"excellent\", \"helpful\", \"comfortable\", \"stylish\", \"great\", \"good\"]\n",
        "negative_words = [\"broke\", \"disappointed\", \"bad\", \"poor\", \"issues\", \"terrible\", \"worst\"]\n",
        "\n",
        "def analyze_sentiment(text):\n",
        "    \"\"\"Rule-based sentiment analysis\"\"\"\n",
        "    text_lower = text.lower()\n",
        "    pos_count = sum(word in text_lower for word in positive_words)\n",
        "    neg_count = sum(word in text_lower for word in negative_words)\n",
        "    if pos_count > neg_count:\n",
        "        return \"Positive\"\n",
        "    elif neg_count > pos_count:\n",
        "        return \"Negative\"\n",
        "    else:\n",
        "        return \"Neutral\"\n",
        "\n",
        "# Process each review\n",
        "for review in reviews:\n",
        "    doc = nlp(review)\n",
        "    entities = [(ent.text, ent.label_) for ent in doc.ents]\n",
        "    sentiment = analyze_sentiment(review)\n",
        "\n",
        "    print(f\"Review: {review}\")\n",
        "    print(f\"Extracted Entities: {entities}\")\n",
        "    print(f\"Sentiment: {sentiment}\")\n",
        "    print(\"-\" * 80)\n"
      ]
    }
  ]
}